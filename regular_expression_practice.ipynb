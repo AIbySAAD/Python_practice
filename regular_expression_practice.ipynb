{
  "nbformat": 4,
  "nbformat_minor": 0,
  "metadata": {
    "colab": {
      "provenance": []
    },
    "kernelspec": {
      "name": "python3",
      "display_name": "Python 3"
    },
    "language_info": {
      "name": "python"
    }
  },
  "cells": [
    {
      "cell_type": "code",
      "source": [
        "import re\n",
        "\n",
        "s = \"Bitcoin was born on Jan 3rd 2009 as an alternative to the failure of the current financial system. In 2017, the price of 1 BTC reached $20000, with a market cap of over $300B.\"\n",
        "\n",
        "result = re.match('price',s)\n",
        "\n",
        "print(result)"
      ],
      "metadata": {
        "id": "RnF95A6iy1rE",
        "colab": {
          "base_uri": "https://localhost:8080/"
        },
        "outputId": "604d26d3-7979-4b5e-98f0-5fa62145ef4c"
      },
      "execution_count": 7,
      "outputs": [
        {
          "output_type": "stream",
          "name": "stdout",
          "text": [
            "None\n"
          ]
        }
      ]
    },
    {
      "cell_type": "code",
      "source": [
        "result = re.match('bitcoin',s,re.IGNORECASE)\n",
        "print(result)"
      ],
      "metadata": {
        "colab": {
          "base_uri": "https://localhost:8080/"
        },
        "id": "K1cNXWGbtxSv",
        "outputId": "b743b55a-5c8e-42ea-ff47-ff2df79265cc"
      },
      "execution_count": 8,
      "outputs": [
        {
          "output_type": "stream",
          "name": "stdout",
          "text": [
            "<re.Match object; span=(0, 7), match='Bitcoin'>\n"
          ]
        }
      ]
    },
    {
      "cell_type": "code",
      "source": [
        "result = re.search(r'Bitcoin was',s)\n",
        "print(result.group())"
      ],
      "metadata": {
        "colab": {
          "base_uri": "https://localhost:8080/"
        },
        "id": "XbrOqP4evMRx",
        "outputId": "5e163ea2-f9c5-4da6-e77e-067f19fa1a4f"
      },
      "execution_count": 10,
      "outputs": [
        {
          "output_type": "stream",
          "name": "stdout",
          "text": [
            "Bitcoin was\n"
          ]
        }
      ]
    },
    {
      "cell_type": "code",
      "source": [
        "import re\n",
        "\n",
        "s = \"Bitcoin was born on Jan 3rd 2009 as an alternative to the failure of the current financial system. In 2017, the price of 1 BTC reached $20000, with a market cap of over $300B.\"\n",
        "\n",
        "result = re.match(r\"B.{6} .{3}\", s)\n",
        "\n",
        "print(result.group())"
      ],
      "metadata": {
        "colab": {
          "base_uri": "https://localhost:8080/"
        },
        "id": "hrpCzVCPwBbU",
        "outputId": "037d730e-c882-4f5a-f390-c4e315ef5183"
      },
      "execution_count": 11,
      "outputs": [
        {
          "output_type": "stream",
          "name": "stdout",
          "text": [
            "Bitcoin was\n"
          ]
        }
      ]
    },
    {
      "cell_type": "code",
      "source": [
        "result=re.match(r'B.{6} .{3}',s)"
      ],
      "metadata": {
        "id": "-5ibn15KwYGE"
      },
      "execution_count": 13,
      "outputs": []
    },
    {
      "cell_type": "code",
      "source": [
        "import re\n",
        "\n",
        "s = \"Bitcoin was born on Jan 3rd 2009 as an alternative to the failure of the current financial system. In 2017, the price of 1 BTC reached $20000, with a market cap of over $300B.\"\n",
        "\n",
        "result = re.search(r'\\d{4}',s)\n",
        "\n",
        "print(result.group())"
      ],
      "metadata": {
        "colab": {
          "base_uri": "https://localhost:8080/"
        },
        "id": "o6I-1nIfwi47",
        "outputId": "34ec74a9-d7d9-4d9a-f7b7-127069326d47"
      },
      "execution_count": 19,
      "outputs": [
        {
          "output_type": "stream",
          "name": "stdout",
          "text": [
            "2009\n"
          ]
        }
      ]
    },
    {
      "cell_type": "code",
      "source": [
        "import re\n",
        "\n",
        "s = \"Bitcoin was born on Jan 3rd 2009 as an alternative to the failure of the current financial system. In 2017, the price of 1 BTC reached $20000, with a market cap of over $300B.\"\n",
        "\n",
        "result = re.search(r\"\\d{4}\", s)\n",
        "\n",
        "print(result)"
      ],
      "metadata": {
        "colab": {
          "base_uri": "https://localhost:8080/"
        },
        "id": "sJ4Vu2Z9w9CA",
        "outputId": "ceda4319-9d7b-4926-f242-342400807717"
      },
      "execution_count": 25,
      "outputs": [
        {
          "output_type": "stream",
          "name": "stdout",
          "text": [
            "<re.Match object; span=(28, 32), match='2009'>\n"
          ]
        }
      ]
    },
    {
      "cell_type": "code",
      "source": [
        "import re\n",
        "\n",
        "s = \"Bitcoin was born on Jan 3rd 2009 as an alternative to the failure of the current financial system. In 2017, the price of 1 BTC reached $20000, with a market cap of over $300B.\"\n",
        "\n",
        "result = re.search(r'(\\d{4})', s)\n",
        "\n",
        "print(result.group(1))"
      ],
      "metadata": {
        "colab": {
          "base_uri": "https://localhost:8080/"
        },
        "id": "XKWlnX9Jxg5H",
        "outputId": "cfa64dbb-bf70-4c4d-d889-77762628363f"
      },
      "execution_count": 30,
      "outputs": [
        {
          "output_type": "stream",
          "name": "stdout",
          "text": [
            "2009\n"
          ]
        }
      ]
    },
    {
      "cell_type": "code",
      "source": [
        "import re\n",
        "\n",
        "s = \"Bitcoin was born on Jan 3rd 2009 as an alternative to the failure of the current financial 5555. In 2017, the price of 1 BTC reached $20000, with a market cap of over $300B.\"\n",
        "\n",
        "result = re.search(r\"(\\d{4}),\", s)\n",
        "\n",
        "print(result.group(1))"
      ],
      "metadata": {
        "colab": {
          "base_uri": "https://localhost:8080/"
        },
        "id": "hfxz2tMDx_B-",
        "outputId": "36fc45d2-cad8-4c76-a63f-57c2224a45ae"
      },
      "execution_count": 33,
      "outputs": [
        {
          "output_type": "stream",
          "name": "stdout",
          "text": [
            "2017\n"
          ]
        }
      ]
    },
    {
      "cell_type": "code",
      "source": [
        "s = \"Bitcoin was born on Jan 3rd 2009 as an alternative to the failure of the current financial 5555. In 2017, the price of 1 BTC reached $20000, with a market cap of over $300B.\"\n",
        "\n",
        "result= re.search(r'.{3}\\s\\d\\w\\w\\s\\d{4}',s)\n",
        "print(result.group())"
      ],
      "metadata": {
        "colab": {
          "base_uri": "https://localhost:8080/"
        },
        "id": "EUbLeMWYykyd",
        "outputId": "1569f2bf-fabc-456c-97ec-163b9cb23408"
      },
      "execution_count": 36,
      "outputs": [
        {
          "output_type": "stream",
          "name": "stdout",
          "text": [
            "Jan 3rd 2009\n"
          ]
        }
      ]
    },
    {
      "cell_type": "code",
      "source": [
        "s = \"Bitcoin was born on Jan 3rd 2009 as an alternative to the failure of the current financial 5555. In 2017, the price of 1 BTC reached $20000, with a market cap of over $300B.\"\n",
        "result=re.search(r'([A-Z]{3})',s)\n",
        "print(result)"
      ],
      "metadata": {
        "colab": {
          "base_uri": "https://localhost:8080/"
        },
        "id": "eRtK37T21CT9",
        "outputId": "54ac310a-a980-46a5-960e-42719feb648f"
      },
      "execution_count": 39,
      "outputs": [
        {
          "output_type": "stream",
          "name": "stdout",
          "text": [
            "<re.Match object; span=(121, 124), match='BTC'>\n"
          ]
        }
      ]
    },
    {
      "cell_type": "code",
      "source": [
        "import re\n",
        "\n",
        "s = \"Bitcoin, Market Cap: $184,073,529,068, Price: $10,259.02, Volume 24h: $15,670,986,269, Circulating Supply: 17,942,600 BTC, Change 24h: 0.10%\"\n",
        "\n",
        "result = re.search(r'\\d{2},\\d{1,3}\\.\\d{1,3}',s)\n",
        "\n",
        "print(result)"
      ],
      "metadata": {
        "colab": {
          "base_uri": "https://localhost:8080/"
        },
        "id": "rbOjiw-Y2Yxf",
        "outputId": "8cd8e978-f530-42c2-8e60-0e728ce4d320"
      },
      "execution_count": 50,
      "outputs": [
        {
          "output_type": "stream",
          "name": "stdout",
          "text": [
            "<re.Match object; span=(47, 56), match='10,259.02'>\n"
          ]
        }
      ]
    },
    {
      "cell_type": "code",
      "source": [
        "import re\n",
        "\n",
        "s = \"Bitcoin, Market Cap: $184,073,529,068, Price: $10,259.02, Volume 24h: $15,670,986,269, Circulating Supply: 17,942,600 BTC, Change 24h: 0.10%\"\n",
        "\n",
        "result = re.search(r'(\\d{2},\\d{3},\\d{3}[A-Z]{3})',s)\n",
        "\n",
        "print(result)"
      ],
      "metadata": {
        "colab": {
          "base_uri": "https://localhost:8080/"
        },
        "id": "W14BYSaC6oFm",
        "outputId": "e1940524-bc0f-4b43-a301-04516a3ffef8"
      },
      "execution_count": 53,
      "outputs": [
        {
          "output_type": "stream",
          "name": "stdout",
          "text": [
            "None\n"
          ]
        }
      ]
    },
    {
      "cell_type": "code",
      "source": [
        "import re\n",
        "\n",
        "s = \"Bitcoin, Market Cap: $184,073,529,068, Price: $10,259.02, Volume 24h: $15,670,986,269, Circulating Supply: 17,942,600 BTC, Change 24h: 0.10%\"\n",
        "\n",
        "result = re.search(r\"\\.\\d\\d, (.{1,}:\\s\\$\\d{2,},\\d{2,},\\d{2,},\\d{2,}), \", s)\n",
        "\n",
        "print(result.group(1))"
      ],
      "metadata": {
        "colab": {
          "base_uri": "https://localhost:8080/"
        },
        "id": "ejg9742f7iou",
        "outputId": "b393d13d-a1ae-4fca-9469-1757c7e70877"
      },
      "execution_count": 54,
      "outputs": [
        {
          "output_type": "stream",
          "name": "stdout",
          "text": [
            "Volume 24h: $15,670,986,269\n"
          ]
        }
      ]
    },
    {
      "cell_type": "code",
      "source": [
        "import re\n",
        "\n",
        "s = \"Bitcoin, Market Cap: $184,073,529,068, Price: $10,259.02, Volume 24h: $15,670,986,269, Circulating Supply: 17,942,600 BTC, Change 24h: 0.10%\"\n",
        "\n",
        "result = re.search(r\"\\.\\d\\d, (.{1,}:\\s\\$\\d{1,2},\\d{1,3},\\d{1,3},\\d{1,3}),\", s)\n",
        "\n",
        "print(result)"
      ],
      "metadata": {
        "colab": {
          "base_uri": "https://localhost:8080/"
        },
        "id": "0buALQv8-PC-",
        "outputId": "e6722e76-57c3-40e8-dae8-94491f5abb23"
      },
      "execution_count": 61,
      "outputs": [
        {
          "output_type": "stream",
          "name": "stdout",
          "text": [
            "<re.Match object; span=(53, 87), match='.02, Volume 24h: $15,670,986,269, '>\n"
          ]
        }
      ]
    },
    {
      "cell_type": "code",
      "source": [
        "import re\n",
        "\n",
        "s = \"Bitcoin, Market Cap: $184,073,529,068, Price: $10,259.02, Volume 24h: $15,670,986,269, Circulating Supply: 17,942,600 BTC, Change 24h: 0.10%\"\n",
        "\n",
        "result = re.search(r'\\.\\s:\\s(\\d{1,3},\\d{1,3},\\d{1,3}\\s\\.{3}), ',s)\n",
        "\n",
        "print(result)"
      ],
      "metadata": {
        "colab": {
          "base_uri": "https://localhost:8080/"
        },
        "id": "Q2-ZiItB_wS6",
        "outputId": "bdfb7428-c28c-412b-f705-f0682119de55"
      },
      "execution_count": 65,
      "outputs": [
        {
          "output_type": "stream",
          "name": "stdout",
          "text": [
            "None\n"
          ]
        }
      ]
    },
    {
      "cell_type": "code",
      "source": [
        "import re\n",
        "\n",
        "s = \"Bitcoin was born on Jan 3rd 2009 as an alternative to the failure of the current financial system. In 2017, the price of 1 BTC reached $20000, with a market cap of over $300B.\"\n",
        "\n",
        "result = re.findall(r'(\\d+)',s)\n",
        "\n",
        "print(result)"
      ],
      "metadata": {
        "colab": {
          "base_uri": "https://localhost:8080/"
        },
        "id": "3LOgANebC8hE",
        "outputId": "e7b8df29-6d6a-4258-f527-652aead611ce"
      },
      "execution_count": 66,
      "outputs": [
        {
          "output_type": "stream",
          "name": "stdout",
          "text": [
            "['3', '2009', '2017', '1', '20000', '300']\n"
          ]
        }
      ]
    },
    {
      "cell_type": "code",
      "source": [],
      "metadata": {
        "id": "RJMtv-jBOLtc"
      },
      "execution_count": null,
      "outputs": []
    }
  ]
}