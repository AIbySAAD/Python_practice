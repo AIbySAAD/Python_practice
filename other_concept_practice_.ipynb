{
  "cells": [
    {
      "cell_type": "code",
      "source": [
        "cph = [i for i in range(1,5)]\n",
        "\n",
        "print(cph)"
      ],
      "metadata": {
        "colab": {
          "base_uri": "https://localhost:8080/"
        },
        "id": "Z5s1pE8dSzF4",
        "outputId": "32c52881-df4a-4723-9e34-df4c22539d0d"
      },
      "execution_count": 8,
      "outputs": [
        {
          "output_type": "stream",
          "name": "stdout",
          "text": [
            "[1, 2, 3, 4]\n"
          ]
        }
      ]
    },
    {
      "cell_type": "code",
      "source": [
        "cph = [i**2 for i in range(1,15,5)]\n",
        "\n",
        "print(cph)"
      ],
      "metadata": {
        "colab": {
          "base_uri": "https://localhost:8080/"
        },
        "id": "bsh8LJTjS2M6",
        "outputId": "37a215a7-6a48-401d-de67-de44b168aec3"
      },
      "execution_count": 10,
      "outputs": [
        {
          "output_type": "stream",
          "name": "stdout",
          "text": [
            "[1, 36, 121]\n"
          ]
        }
      ]
    },
    {
      "cell_type": "code",
      "source": [
        "cph = [i**2 for i in range(1,15,5) if i<=16]\n",
        "\n",
        "print(cph)"
      ],
      "metadata": {
        "colab": {
          "base_uri": "https://localhost:8080/"
        },
        "id": "vOEMNtskTFMv",
        "outputId": "6e59e182-f8f8-47c6-9802-959cb02f27fc"
      },
      "execution_count": 11,
      "outputs": [
        {
          "output_type": "stream",
          "name": "stdout",
          "text": [
            "[1, 36, 121]\n"
          ]
        }
      ]
    },
    {
      "cell_type": "code",
      "source": [
        "cph = {key:key*3 for key in range(9)}\n",
        "\n",
        "print(cph)"
      ],
      "metadata": {
        "colab": {
          "base_uri": "https://localhost:8080/"
        },
        "id": "eryiqe9kTi0q",
        "outputId": "b9d90fc8-aefa-49de-ec92-756b0305e908"
      },
      "execution_count": 13,
      "outputs": [
        {
          "output_type": "stream",
          "name": "stdout",
          "text": [
            "{0: 0, 1: 3, 2: 6, 3: 9, 4: 12, 5: 15, 6: 18, 7: 21, 8: 24}\n"
          ]
        }
      ]
    },
    {
      "cell_type": "code",
      "source": [
        "cph = {i/2.5 for i in range(10,19)}\n",
        "\n",
        "print(cph)"
      ],
      "metadata": {
        "colab": {
          "base_uri": "https://localhost:8080/"
        },
        "id": "xxkiPBCbUNeN",
        "outputId": "7100efa4-1283-4547-96ca-3131e0951c20"
      },
      "execution_count": 14,
      "outputs": [
        {
          "output_type": "stream",
          "name": "stdout",
          "text": [
            "{4.8, 5.2, 4.0, 4.4, 5.6, 6.0, 6.4, 6.8, 7.2}\n"
          ]
        }
      ]
    },
    {
      "cell_type": "code",
      "source": [
        "lam = lambda x,y:x*y\n",
        "\n",
        "print(lam(2, 5))"
      ],
      "metadata": {
        "colab": {
          "base_uri": "https://localhost:8080/"
        },
        "id": "JvLA7tXcUoCr",
        "outputId": "fb1644d7-32d2-40fa-acb7-2df77afe8172"
      },
      "execution_count": 15,
      "outputs": [
        {
          "output_type": "stream",
          "name": "stdout",
          "text": [
            "10\n"
          ]
        }
      ]
    },
    {
      "cell_type": "code",
      "source": [
        "lam = lambda list1:[x*y for x in range(1,5) for y in list1]\n",
        "\n",
        "print(lam([1, 2]))"
      ],
      "metadata": {
        "colab": {
          "base_uri": "https://localhost:8080/"
        },
        "id": "Q5QSQ5xKU29u",
        "outputId": "e9699f9c-4ae5-43ec-b635-4348cf373ddd"
      },
      "execution_count": 16,
      "outputs": [
        {
          "output_type": "stream",
          "name": "stdout",
          "text": [
            "[1, 2, 2, 4, 3, 6, 4, 8]\n"
          ]
        }
      ]
    }
  ],
  "metadata": {
    "colab": {
      "provenance": []
    },
    "kernelspec": {
      "display_name": "Python 3",
      "name": "python3"
    },
    "language_info": {
      "name": "python"
    }
  },
  "nbformat": 4,
  "nbformat_minor": 0
}