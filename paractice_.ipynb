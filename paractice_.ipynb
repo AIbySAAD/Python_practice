{
  "nbformat": 4,
  "nbformat_minor": 0,
  "metadata": {
    "colab": {
      "provenance": []
    },
    "kernelspec": {
      "name": "python3",
      "display_name": "Python 3"
    },
    "language_info": {
      "name": "python"
    }
  },
  "cells": [
    {
      "cell_type": "code",
      "source": [
        "def func(n):\n",
        "    if n==1:\n",
        "        return 1\n",
        "    else:\n",
        "        return n*func(n-1)\n",
        "print(func(5))\n"
      ],
      "metadata": {
        "colab": {
          "base_uri": "https://localhost:8080/"
        },
        "id": "n34vne-Nkla7",
        "outputId": "99b48bd4-1b2f-4965-d9f0-784d3986b6dd"
      },
      "execution_count": null,
      "outputs": [
        {
          "output_type": "stream",
          "name": "stdout",
          "text": [
            "120\n"
          ]
        }
      ]
    },
    {
      "cell_type": "code",
      "source": [
        "def func(n):\n",
        "  a=1\n",
        "  for i in range(n):\n",
        "    a=a*(i+1)\n",
        "  return a\n",
        "func(5)"
      ],
      "metadata": {
        "colab": {
          "base_uri": "https://localhost:8080/"
        },
        "id": "GTSf8kcQmHpt",
        "outputId": "acf671bf-88c7-4ac8-e68e-4ba5490d373f"
      },
      "execution_count": null,
      "outputs": [
        {
          "output_type": "execute_result",
          "data": {
            "text/plain": [
              "120"
            ]
          },
          "metadata": {},
          "execution_count": 77
        }
      ]
    },
    {
      "cell_type": "code",
      "source": [
        "def func(n):\n",
        "  if n==1:\n",
        "    return 1\n",
        "  else:\n",
        "    return n*func(n-1)\n",
        "func(5)"
      ],
      "metadata": {
        "colab": {
          "base_uri": "https://localhost:8080/"
        },
        "id": "KphdgDgUmwQz",
        "outputId": "74eef1bf-48ae-4dcf-d19b-30cc4491fb61"
      },
      "execution_count": null,
      "outputs": [
        {
          "output_type": "execute_result",
          "data": {
            "text/plain": [
              "120"
            ]
          },
          "metadata": {},
          "execution_count": 79
        }
      ]
    },
    {
      "cell_type": "code",
      "source": [
        "' lambda function'\n",
        "\n",
        "c=lambda x,y:x-y\n",
        "c(4,3)"
      ],
      "metadata": {
        "colab": {
          "base_uri": "https://localhost:8080/"
        },
        "id": "KHDxcgdIoc91",
        "outputId": "82e04c6f-241e-4a8d-e58e-5fc9e5687301"
      },
      "execution_count": null,
      "outputs": [
        {
          "output_type": "execute_result",
          "data": {
            "text/plain": [
              "1"
            ]
          },
          "metadata": {},
          "execution_count": 80
        }
      ]
    },
    {
      "cell_type": "code",
      "source": [
        "# string formating\n",
        "\n",
        "c='hello'\n",
        "print(f'{c} g')"
      ],
      "metadata": {
        "colab": {
          "base_uri": "https://localhost:8080/"
        },
        "id": "OsFv6Fvwqfia",
        "outputId": "05c3b1f9-9227-4465-ae0a-6eaee952e7af"
      },
      "execution_count": null,
      "outputs": [
        {
          "output_type": "stream",
          "name": "stdout",
          "text": [
            "hello g\n"
          ]
        }
      ]
    },
    {
      "cell_type": "code",
      "source": [
        "def func(**kwargs):\n",
        "  for key,value in kwargs.items():\n",
        "    print(key,value)\n",
        "a={'hello':4,'g':5}\n",
        "func(**a)"
      ],
      "metadata": {
        "colab": {
          "base_uri": "https://localhost:8080/"
        },
        "id": "mOE-KvvWrBGu",
        "outputId": "bc5a4c78-58e8-4fa4-ea37-1938c3de0e19"
      },
      "execution_count": null,
      "outputs": [
        {
          "output_type": "stream",
          "name": "stdout",
          "text": [
            "hello 4\n",
            "g 5\n"
          ]
        }
      ]
    },
    {
      "cell_type": "code",
      "source": [
        "import time\n",
        "ini=time.time()\n",
        "for i in range(10):\n",
        "  print('a')\n",
        "print(time.time()-ini)"
      ],
      "metadata": {
        "colab": {
          "base_uri": "https://localhost:8080/"
        },
        "id": "AhmrVHTMvP1l",
        "outputId": "322434b7-162c-43c6-8444-4cdfafc85dfa"
      },
      "execution_count": null,
      "outputs": [
        {
          "output_type": "stream",
          "name": "stdout",
          "text": [
            "a\n",
            "a\n",
            "a\n",
            "a\n",
            "a\n",
            "a\n",
            "a\n",
            "a\n",
            "a\n",
            "a\n",
            "0.0006949901580810547\n"
          ]
        }
      ]
    },
    {
      "cell_type": "code",
      "source": [
        "l=[3,2,4]\n",
        "for item in enumerate(l):\n",
        "  print(item)"
      ],
      "metadata": {
        "id": "u17Lbfcjv8-C",
        "colab": {
          "base_uri": "https://localhost:8080/"
        },
        "outputId": "8bf44d71-469f-4c62-b873-849ee6e153a8"
      },
      "execution_count": 2,
      "outputs": [
        {
          "output_type": "stream",
          "name": "stdout",
          "text": [
            "(0, 3)\n",
            "(1, 2)\n",
            "(2, 4)\n"
          ]
        }
      ]
    },
    {
      "cell_type": "code",
      "source": [
        "l=[1,2,3,4]\n",
        "def func(x):\n",
        "  return x**x\n",
        "print(list([map(func,l)]))"
      ],
      "metadata": {
        "colab": {
          "base_uri": "https://localhost:8080/"
        },
        "id": "8icv3IilP5l3",
        "outputId": "98ec28c7-6c9f-4966-8c30-8bdfe7c2f68e"
      },
      "execution_count": 8,
      "outputs": [
        {
          "output_type": "stream",
          "name": "stdout",
          "text": [
            "[<map object at 0x7f0b3890dba0>]\n"
          ]
        }
      ]
    },
    {
      "cell_type": "code",
      "source": [
        "# input=6,9\n",
        "# output=9,6\n",
        "\n",
        "a=int(input())\n",
        "i=0\n",
        "while (a>=7 and a<=9) and i<=0:\n",
        "  print(6)\n",
        "  i+=1\n",
        "i=1\n",
        "while a<=6 and i<=1:\n",
        "  print(9)\n",
        "  i+=1"
      ],
      "metadata": {
        "colab": {
          "base_uri": "https://localhost:8080/"
        },
        "id": "cXF3Mw17SDO8",
        "outputId": "923669a1-caee-492e-fead-455c54bd1216"
      },
      "execution_count": 30,
      "outputs": [
        {
          "output_type": "stream",
          "name": "stdout",
          "text": [
            "6\n",
            "9\n"
          ]
        }
      ]
    },
    {
      "cell_type": "code",
      "source": [
        "a='hello '\n",
        "b='hi'\n",
        "print(a+b)"
      ],
      "metadata": {
        "colab": {
          "base_uri": "https://localhost:8080/"
        },
        "id": "-4xVuM1HVfWt",
        "outputId": "cfbb58df-7dd1-48a6-c4a9-23db38573b58"
      },
      "execution_count": 23,
      "outputs": [
        {
          "output_type": "stream",
          "name": "stdout",
          "text": [
            "hello hi\n"
          ]
        }
      ]
    },
    {
      "cell_type": "code",
      "source": [
        "my_string = \"my name is hamza\"\n",
        "\n",
        "print(my_string.index('a'))"
      ],
      "metadata": {
        "colab": {
          "base_uri": "https://localhost:8080/"
        },
        "id": "BqNeBp3MbBJM",
        "outputId": "cb20ad6a-3b6f-4467-95d9-7ec9dd2587bf"
      },
      "execution_count": 28,
      "outputs": [
        {
          "output_type": "stream",
          "name": "stdout",
          "text": [
            "4\n"
          ]
        }
      ]
    },
    {
      "cell_type": "code",
      "source": [
        "my_string = \"Xn 2010, Xomeone paid 10k Bitcoin for two pizzas.\"\n",
        "\n",
        "print(my_string.startswith('X'))"
      ],
      "metadata": {
        "colab": {
          "base_uri": "https://localhost:8080/"
        },
        "id": "lEsc2VTBgqjX",
        "outputId": "382c52d2-1d8f-4985-c5d8-37c8a918334f"
      },
      "execution_count": 31,
      "outputs": [
        {
          "output_type": "stream",
          "name": "stdout",
          "text": [
            "True\n"
          ]
        }
      ]
    },
    {
      "cell_type": "code",
      "source": [
        "my_string = \"In 2010, someone paid 10k Bitcoin for two pizzas.\"\n",
        "\n",
        "print('&'.join(my_string))"
      ],
      "metadata": {
        "colab": {
          "base_uri": "https://localhost:8080/"
        },
        "id": "_dQnDM7RkKlk",
        "outputId": "5694cb91-b8a5-4dd9-8310-cf3efbef04b0"
      },
      "execution_count": 34,
      "outputs": [
        {
          "output_type": "stream",
          "name": "stdout",
          "text": [
            "I&n& &2&0&1&0&,& &s&o&m&e&o&n&e& &p&a&i&d& &1&0&k& &B&i&t&c&o&i&n& &f&o&r& &t&w&o& &p&i&z&z&a&s&.\n"
          ]
        }
      ]
    }
  ]
}