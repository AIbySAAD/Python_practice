{
  "nbformat": 4,
  "nbformat_minor": 0,
  "metadata": {
    "colab": {
      "provenance": []
    },
    "kernelspec": {
      "name": "python3",
      "display_name": "Python 3"
    },
    "language_info": {
      "name": "python"
    }
  },
  "cells": [
    {
      "cell_type": "code",
      "execution_count": 1,
      "metadata": {
        "colab": {
          "base_uri": "https://localhost:8080/"
        },
        "id": "wt6y04fPjeQA",
        "outputId": "cf51277b-5d62-4bf4-e289-36d93f551430"
      },
      "outputs": [
        {
          "output_type": "stream",
          "name": "stdout",
          "text": [
            "Enter 20 binary digits one by one:\n",
            "Enter digit 1 (0 or 1): 1\n",
            "Remaining combinations after digit 1: 524288\n",
            "Enter digit 2 (0 or 1): 0\n",
            "Remaining combinations after digit 2: 262144\n",
            "Enter digit 3 (0 or 1): 3\n",
            "Error: Invalid input. Please enter 0 or 1.\n",
            "The entered binary number is part of 1048576 total combinations.\n"
          ]
        }
      ],
      "source": [
        "from itertools import product\n",
        "\n",
        "num_digits = 20\n",
        "\n",
        "remaining_combinations = 2**num_digits\n",
        "\n",
        "print(f\"Enter {num_digits} binary digits one by one:\")\n",
        "\n",
        "for i in range(num_digits):\n",
        "    user_input = input(f\"Enter digit {i + 1} (0 or 1): \")\n",
        "\n",
        "    try:\n",
        "        digit = int(user_input)\n",
        "        if digit not in [0, 1]:\n",
        "            raise ValueError(\"Invalid input. Please enter 0 or 1.\")\n",
        "\n",
        "        remaining_combinations //= 2\n",
        "        print(f\"Remaining combinations after digit {i + 1}: {remaining_combinations}\")\n",
        "\n",
        "    except ValueError as e:\n",
        "        print(f\"Error: {e}\")\n",
        "        break\n",
        "\n",
        "print(f\"The entered binary number is part of {2**num_digits} total combinations.\")\n"
      ]
    }
  ]
}