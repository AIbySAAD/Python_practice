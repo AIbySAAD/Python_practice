{
  "nbformat": 4,
  "nbformat_minor": 0,
  "metadata": {
    "colab": {
      "provenance": []
    },
    "kernelspec": {
      "name": "python3",
      "display_name": "Python 3"
    },
    "language_info": {
      "name": "python"
    }
  },
  "cells": [
    {
      "cell_type": "code",
      "execution_count": null,
      "metadata": {
        "colab": {
          "base_uri": "https://localhost:8080/"
        },
        "id": "0QlA8QeTZG_D",
        "outputId": "ef090c7e-6330-4be0-be50-95b18118cb83"
      },
      "outputs": [
        {
          "output_type": "stream",
          "name": "stdout",
          "text": [
            "[2, 3, 4, 5]\n"
          ]
        }
      ],
      "source": [
        "a=[2,3,4,5,6]\n",
        "a.pop(4)\n",
        "print(a)"
      ]
    },
    {
      "cell_type": "code",
      "source": [
        "num1 = 5\n",
        "num2 = 2\n",
        "\n",
        "num3 = int(num1 /num2)\n",
        "num3"
      ],
      "metadata": {
        "colab": {
          "base_uri": "https://localhost:8080/"
        },
        "id": "lOoFjKajZNwA",
        "outputId": "0643f4b6-b6a6-44dd-b662-b6c014df7cd2"
      },
      "execution_count": null,
      "outputs": [
        {
          "output_type": "execute_result",
          "data": {
            "text/plain": [
              "2"
            ]
          },
          "metadata": {},
          "execution_count": 8
        }
      ]
    },
    {
      "cell_type": "code",
      "source": [
        "num1 = -11\n",
        "\n",
        "num2 = abs(num1)\n",
        "\n",
        "print(num2 == 11) #should result in True"
      ],
      "metadata": {
        "colab": {
          "base_uri": "https://localhost:8080/"
        },
        "id": "TJ8Zc1JRZnFy",
        "outputId": "e1b0e81a-8a62-4a53-dd57-6edb6960f5c2"
      },
      "execution_count": null,
      "outputs": [
        {
          "output_type": "stream",
          "name": "stdout",
          "text": [
            "True\n"
          ]
        }
      ]
    },
    {
      "cell_type": "code",
      "source": [
        "my_list = [10, 10.5, 20, 30, 25.6, 19.25, 11.01, 29.99]\n",
        "\n",
        "asc = sorted(my_list,reverse=True)\n",
        "\n",
        "print(asc)"
      ],
      "metadata": {
        "colab": {
          "base_uri": "https://localhost:8080/"
        },
        "id": "AyXfmLy3mpOB",
        "outputId": "9e6eb7fe-346f-43ad-873f-b798fa122d3d"
      },
      "execution_count": null,
      "outputs": [
        {
          "output_type": "stream",
          "name": "stdout",
          "text": [
            "[30, 29.99, 25.6, 20, 19.25, 11.01, 10.5, 10]\n"
          ]
        }
      ]
    },
    {
      "cell_type": "code",
      "source": [
        "my_list = [10, 10.5, 20, 30, 25.6, 19.25, 11.01, 29.99]\n",
        "\n",
        "add = (my_list +[30.01, 30.02, 30.03]) *2\n",
        "\n",
        "print(add)"
      ],
      "metadata": {
        "colab": {
          "base_uri": "https://localhost:8080/"
        },
        "id": "Dmk8PPsgmrrf",
        "outputId": "b2d6e435-6f9f-475f-bbfe-1d18c1132447"
      },
      "execution_count": null,
      "outputs": [
        {
          "output_type": "stream",
          "name": "stdout",
          "text": [
            "[10, 10.5, 20, 30, 25.6, 19.25, 11.01, 29.99, 30.01, 30.02, 30.03, 10, 10.5, 20, 30, 25.6, 19.25, 11.01, 29.99, 30.01, 30.02, 30.03]\n"
          ]
        }
      ]
    },
    {
      "cell_type": "code",
      "source": [
        "l1=[2,3]\n",
        "l2=[4,5]\n",
        "print(l1+l2)"
      ],
      "metadata": {
        "colab": {
          "base_uri": "https://localhost:8080/"
        },
        "id": "cf1emxt3nt2N",
        "outputId": "3247b113-b1c3-4b97-ccf1-58a777b4d260"
      },
      "execution_count": null,
      "outputs": [
        {
          "output_type": "stream",
          "name": "stdout",
          "text": [
            "[2, 3, 4, 5]\n"
          ]
        }
      ]
    },
    {
      "cell_type": "code",
      "source": [
        "a={3,2,4}\n",
        "print(set(a))"
      ],
      "metadata": {
        "colab": {
          "base_uri": "https://localhost:8080/"
        },
        "id": "GvGiFYkqn0Ld",
        "outputId": "152eb321-37d5-4e4b-921c-999dfc519be9"
      },
      "execution_count": null,
      "outputs": [
        {
          "output_type": "stream",
          "name": "stdout",
          "text": [
            "{2, 3, 4}\n"
          ]
        }
      ]
    },
    {
      "cell_type": "code",
      "source": [
        "a=(2,3,4,5)\n",
        "max(a)"
      ],
      "metadata": {
        "id": "OfDwFhaAuIeU",
        "colab": {
          "base_uri": "https://localhost:8080/"
        },
        "outputId": "a3faa2a2-e4d3-4fe4-f99b-37f1acc7dca6"
      },
      "execution_count": null,
      "outputs": [
        {
          "output_type": "execute_result",
          "data": {
            "text/plain": [
              "5"
            ]
          },
          "metadata": {},
          "execution_count": 14
        }
      ]
    },
    {
      "cell_type": "code",
      "source": [
        "a=(2,3,4)\n",
        "a=a[2]\n",
        "print(a)"
      ],
      "metadata": {
        "colab": {
          "base_uri": "https://localhost:8080/"
        },
        "id": "W0ZakgEFY5_E",
        "outputId": "107871ac-095e-4f4e-9994-c026253df94d"
      },
      "execution_count": null,
      "outputs": [
        {
          "output_type": "stream",
          "name": "stdout",
          "text": [
            "4\n"
          ]
        }
      ]
    },
    {
      "cell_type": "code",
      "source": [
        "a=[4,5,6]"
      ],
      "metadata": {
        "id": "5f0rlvmNqhY1"
      },
      "execution_count": null,
      "outputs": []
    },
    {
      "cell_type": "code",
      "source": [
        "a={3:'ali',4:'hamza'}\n",
        "a.popitem()"
      ],
      "metadata": {
        "colab": {
          "base_uri": "https://localhost:8080/"
        },
        "id": "rfeeQvXlql8p",
        "outputId": "cedfeb9b-e92a-4aec-baaf-1d894f841e25"
      },
      "execution_count": null,
      "outputs": [
        {
          "output_type": "execute_result",
          "data": {
            "text/plain": [
              "(4, 'hamza')"
            ]
          },
          "metadata": {},
          "execution_count": 17
        }
      ]
    },
    {
      "cell_type": "code",
      "source": [
        "x = \"The days of Python 2 are almost over. Python 3 is the king now.\"\n",
        "y=len(x)\n",
        "y"
      ],
      "metadata": {
        "colab": {
          "base_uri": "https://localhost:8080/"
        },
        "id": "pCKobLY-smxA",
        "outputId": "9bade9dc-6b3d-4e7e-d9aa-8dbac49e8d4e"
      },
      "execution_count": null,
      "outputs": [
        {
          "output_type": "execute_result",
          "data": {
            "text/plain": [
              "63"
            ]
          },
          "metadata": {},
          "execution_count": 18
        }
      ]
    },
    {
      "cell_type": "code",
      "source": [
        "x = \"The days of Python 2 are almost over. Python 3 is the king now.\""
      ],
      "metadata": {
        "id": "mwniMlLr3QjR"
      },
      "execution_count": null,
      "outputs": []
    },
    {
      "cell_type": "code",
      "source": [
        "if type(x) and x.startswith('T'):\n",
        "  print('True!')"
      ],
      "metadata": {
        "colab": {
          "base_uri": "https://localhost:8080/"
        },
        "id": "hHrQ_dpI4R1R",
        "outputId": "313ff844-466f-4b3b-b1d0-f5daadb5bbef"
      },
      "execution_count": null,
      "outputs": [
        {
          "output_type": "stream",
          "name": "stdout",
          "text": [
            "True!\n"
          ]
        }
      ]
    },
    {
      "cell_type": "code",
      "source": [
        "x.index('P')"
      ],
      "metadata": {
        "colab": {
          "base_uri": "https://localhost:8080/"
        },
        "id": "S_Ie4nE04ezS",
        "outputId": "d947afa5-7b68-40a6-db75-a8d2ec8ba2f1"
      },
      "execution_count": null,
      "outputs": [
        {
          "output_type": "execute_result",
          "data": {
            "text/plain": [
              "12"
            ]
          },
          "metadata": {},
          "execution_count": 21
        }
      ]
    },
    {
      "cell_type": "code",
      "source": [
        "x = {1: \"Python\", 2: \"Java\", 3: \"Javascript\", 4: \"Ruby\", 5: \"Perl\", 6: \"C#\", 7: \"C++\"}\n",
        "x[1]"
      ],
      "metadata": {
        "id": "dsNRgfdR6b0m",
        "colab": {
          "base_uri": "https://localhost:8080/",
          "height": 35
        },
        "outputId": "cc078b58-f077-48ac-f187-be0e826ad824"
      },
      "execution_count": null,
      "outputs": [
        {
          "output_type": "execute_result",
          "data": {
            "text/plain": [
              "'Python'"
            ],
            "application/vnd.google.colaboratory.intrinsic+json": {
              "type": "string"
            }
          },
          "metadata": {},
          "execution_count": 22
        }
      ]
    },
    {
      "cell_type": "code",
      "source": [
        "my_range=range(5,25,5)\n",
        "second_to_last_element=my_range[1:]\n",
        "for i in my_range:\n",
        "  if i<=10 and i<=21:\n",
        "    for j in second_to_last_element:\n",
        "      print(i*j)\n",
        "  else:\n",
        "    print('Outside!')\n",
        "print('The end!')"
      ],
      "metadata": {
        "colab": {
          "base_uri": "https://localhost:8080/"
        },
        "id": "P4Wm9LXajll_",
        "outputId": "7219f377-ac20-40b3-eadd-26449c2fb11d"
      },
      "execution_count": null,
      "outputs": [
        {
          "output_type": "stream",
          "name": "stdout",
          "text": [
            "50\n",
            "75\n",
            "100\n",
            "100\n",
            "150\n",
            "200\n",
            "Outside!\n",
            "Outside!\n",
            "The end!\n"
          ]
        }
      ]
    },
    {
      "cell_type": "code",
      "source": [
        "def func(*args,**kwargs):\n",
        "    print(args)\n",
        "    for key,value in kwargs.items():\n",
        "        print(key,value)\n",
        "has=[\"saad\",\"ali\",\"hamza\"]\n",
        "sd={\"saad\":\"ML engineer\",\"ali\":\"employee\",\"saim\":\"employee\"}\n",
        "func(*has,**sd)"
      ],
      "metadata": {
        "id": "6NeCKo5_HPSS",
        "colab": {
          "base_uri": "https://localhost:8080/"
        },
        "outputId": "2457cec5-b27f-4289-aa1e-a47695520e4a"
      },
      "execution_count": null,
      "outputs": [
        {
          "output_type": "stream",
          "name": "stdout",
          "text": [
            "('saad', 'ali', 'hamza')\n",
            "saad ML engineer\n",
            "ali employee\n",
            "saim employee\n"
          ]
        }
      ]
    },
    {
      "cell_type": "code",
      "source": [
        "l=[2,3,4,5,6,7,8,9]\n",
        "def func(n):\n",
        "    return n>5\n",
        "c=list(filter(func,l))\n",
        "print(c)"
      ],
      "metadata": {
        "colab": {
          "base_uri": "https://localhost:8080/"
        },
        "id": "Qce8XgnVedgn",
        "outputId": "1902ea9a-c3c3-4ee8-b2dc-f03e43f3084a"
      },
      "execution_count": null,
      "outputs": [
        {
          "output_type": "stream",
          "name": "stdout",
          "text": [
            "[6, 7, 8, 9]\n"
          ]
        }
      ]
    },
    {
      "cell_type": "code",
      "source": [
        "import pandas as pd\n",
        "\n",
        "# Sample DataFrame\n",
        "data = {'index': ['A', 'A', 'B', 'B'],\n",
        "        'columns': ['X', 'Y', 'X', 'Y'],\n",
        "        'values': [1, 2, 3, 4]}\n",
        "\n",
        "df = pd.DataFrame(data)\n",
        "\n",
        "# Original DataFrame\n",
        "print(\"Original DataFrame:\")\n",
        "print(df)\n",
        "\n",
        "# Pivot the DataFrame\n",
        "pivot_df = df.pivot(index='index', columns='columns', values='values')\n",
        "\n",
        "# Resulting pivoted DataFrame\n",
        "print(\"\\nPivoted DataFrame:\")\n",
        "print(pivot_df)\n"
      ],
      "metadata": {
        "colab": {
          "base_uri": "https://localhost:8080/"
        },
        "id": "3AX2koCniA0q",
        "outputId": "c2ed1a48-0e09-4277-aa6d-699a9858e796"
      },
      "execution_count": null,
      "outputs": [
        {
          "output_type": "stream",
          "name": "stdout",
          "text": [
            "Original DataFrame:\n",
            "  index columns  values\n",
            "0     A       X       1\n",
            "1     A       Y       2\n",
            "2     B       X       3\n",
            "3     B       Y       4\n",
            "\n",
            "Pivoted DataFrame:\n",
            "columns  X  Y\n",
            "index        \n",
            "A        1  2\n",
            "B        3  4\n"
          ]
        }
      ]
    },
    {
      "cell_type": "code",
      "source": [
        "class bike():\n",
        "    def __init__(self):\n",
        "        self.name=\"honda\"\n",
        "    def specs(self):\n",
        "        self.name=\"honda\"\n",
        "        self.cc=\"170\"\n",
        "        self.color=\"black\"\n",
        "        print(self.name,self.cc,self.color)\n",
        "    def owndel(self):\n",
        "        self.name=\"saad\"\n",
        "        self.age=\"22\"\n",
        "        self.work=\"ML engineer\"\n",
        "        print(self.name,self.age,self.work)\n",
        "hi=bike()\n",
        "print(hi.name)\n",
        "hi.specs()\n",
        "hi.owndel()"
      ],
      "metadata": {
        "colab": {
          "base_uri": "https://localhost:8080/"
        },
        "id": "H5DWl5B5iBhR",
        "outputId": "3adf9f0e-6c4f-4e74-ab44-8a6445035b4e"
      },
      "execution_count": null,
      "outputs": [
        {
          "output_type": "stream",
          "name": "stdout",
          "text": [
            "honda\n",
            "honda 170 black\n",
            "saad 22 ML engineer\n"
          ]
        }
      ]
    },
    {
      "cell_type": "code",
      "source": [
        "class var:\n",
        "    def __init__(self):\n",
        "        self.age=\"13\"\n",
        "        self.name=\"ali\"\n",
        "        self.__height=15\n",
        "class var2(var):\n",
        "    pass\n",
        "obj=var2()\n",
        "print(obj.name)"
      ],
      "metadata": {
        "colab": {
          "base_uri": "https://localhost:8080/"
        },
        "id": "5l8xrLz60vrT",
        "outputId": "c02355ed-2d7f-4448-b761-329e663a2ec0"
      },
      "execution_count": null,
      "outputs": [
        {
          "output_type": "stream",
          "name": "stdout",
          "text": [
            "ali\n"
          ]
        }
      ]
    },
    {
      "cell_type": "code",
      "source": [
        "class var:\n",
        "    x=\"hello\"\n",
        "    # def __init__(self):\n",
        "    #     print(\"parent class constructor\")\n",
        "class var2(var):\n",
        "    x=\"good\"\n",
        "    def __init__(self):\n",
        "        print(super().x)\n",
        "obj=var2()"
      ],
      "metadata": {
        "colab": {
          "base_uri": "https://localhost:8080/"
        },
        "id": "L4CX8z1w2Kp2",
        "outputId": "00cd9b6a-a909-45e0-e60a-70d5761e7291"
      },
      "execution_count": null,
      "outputs": [
        {
          "output_type": "stream",
          "name": "stdout",
          "text": [
            "hello\n"
          ]
        }
      ]
    },
    {
      "cell_type": "code",
      "source": [
        "a='This is ball.'\n",
        "b=a.strip('.')\n",
        "b[-1]"
      ],
      "metadata": {
        "id": "7GjIYKQL3Bdg",
        "colab": {
          "base_uri": "https://localhost:8080/",
          "height": 35
        },
        "outputId": "88202280-c8ea-4b66-fce9-e87effa4401b"
      },
      "execution_count": 38,
      "outputs": [
        {
          "output_type": "execute_result",
          "data": {
            "text/plain": [
              "'l'"
            ],
            "application/vnd.google.colaboratory.intrinsic+json": {
              "type": "string"
            }
          },
          "metadata": {},
          "execution_count": 38
        }
      ]
    },
    {
      "cell_type": "code",
      "source": [
        "def func():\n",
        "    for i in range(1,5):\n",
        "        yield i\n",
        "z=func()"
      ],
      "metadata": {
        "id": "ZE374s1gJPck"
      },
      "execution_count": 39,
      "outputs": []
    },
    {
      "cell_type": "code",
      "source": [
        "print(z.__next__())\n",
        "\n",
        "for i in z:\n",
        "    print(i)"
      ],
      "metadata": {
        "colab": {
          "base_uri": "https://localhost:8080/"
        },
        "id": "SwwclQ9qLPZr",
        "outputId": "34ab4198-5ea1-4f3d-9e17-d47df666580e"
      },
      "execution_count": 40,
      "outputs": [
        {
          "output_type": "stream",
          "name": "stdout",
          "text": [
            "1\n",
            "2\n",
            "3\n",
            "4\n"
          ]
        }
      ]
    },
    {
      "cell_type": "code",
      "source": [
        "for i in range(5):\n",
        "    if i == 2:\n",
        "        print(\"Skipping the loop at i =\", i)\n",
        "        break\n",
        "    print(i)\n"
      ],
      "metadata": {
        "colab": {
          "base_uri": "https://localhost:8080/"
        },
        "id": "y-mxg3ikLWwH",
        "outputId": "b50fe94a-e74c-4aa8-be4f-1358e4683b62"
      },
      "execution_count": 2,
      "outputs": [
        {
          "output_type": "stream",
          "name": "stdout",
          "text": [
            "0\n",
            "1\n",
            "Skipping the loop at i = 2\n"
          ]
        }
      ]
    }
  ]
}