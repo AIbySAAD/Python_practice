{
  "nbformat": 4,
  "nbformat_minor": 0,
  "metadata": {
    "colab": {
      "provenance": []
    },
    "kernelspec": {
      "name": "python3",
      "display_name": "Python 3"
    },
    "language_info": {
      "name": "python"
    }
  },
  "cells": [
    {
      "cell_type": "code",
      "source": [
        "f = open(\"/content/Hi my name is saad.txt\", \"r\")\n",
        "\n",
        "print(f.read())"
      ],
      "metadata": {
        "id": "r8_UQhvXQiT_",
        "colab": {
          "base_uri": "https://localhost:8080/"
        },
        "outputId": "370d58ce-a4ac-4d33-ffd5-2a21d6605e1e"
      },
      "execution_count": null,
      "outputs": [
        {
          "output_type": "stream",
          "name": "stdout",
          "text": [
            "hello with the new.\n",
            "This is a ball.\n",
            "time the with of.\n",
            "\n"
          ]
        }
      ]
    },
    {
      "cell_type": "code",
      "source": [
        "f = open(\"/content/Hi my name is saad.txt\", \"r\")\n",
        "\n",
        "print(list(f.readlines()))"
      ],
      "metadata": {
        "colab": {
          "base_uri": "https://localhost:8080/"
        },
        "id": "9GLz4FrKS9Zu",
        "outputId": "2710c9ae-c0e1-4d30-fab5-51375fca84c4"
      },
      "execution_count": null,
      "outputs": [
        {
          "output_type": "stream",
          "name": "stdout",
          "text": [
            "['hello with the new.\\n', 'This is a ball.\\n', 'time the with of.\\n']\n"
          ]
        }
      ]
    },
    {
      "cell_type": "code",
      "source": [
        "f = open(\"/content/Hi my name is saad.txt\", \"r\")\n",
        "\n",
        "print(f.readlines())"
      ],
      "metadata": {
        "colab": {
          "base_uri": "https://localhost:8080/"
        },
        "id": "FfY2crTYTWOh",
        "outputId": "956b7430-523a-4b27-b0cf-ff0ddef57df7"
      },
      "execution_count": null,
      "outputs": [
        {
          "output_type": "stream",
          "name": "stdout",
          "text": [
            "['hello with the new.\\n', 'This is a ball.\\n', 'time the with of.\\n']\n"
          ]
        }
      ]
    },
    {
      "cell_type": "code",
      "source": [
        "f = open(\"/content/Hi my name is saad.txt\", \"r\")\n",
        "\n",
        "f.read(5)\n",
        "\n",
        "print(f.mode)"
      ],
      "metadata": {
        "colab": {
          "base_uri": "https://localhost:8080/"
        },
        "id": "dIGklJdHUQp-",
        "outputId": "fe946b68-4125-46d3-bdd4-7324c70ab44f"
      },
      "execution_count": null,
      "outputs": [
        {
          "output_type": "stream",
          "name": "stdout",
          "text": [
            "r\n"
          ]
        }
      ]
    },
    {
      "cell_type": "code",
      "source": [
        "f = open(\"/content/Hi my name is saad.txt\", \"w\")\n",
        "\n",
        "f.write('hello')\n",
        "f.close\n",
        "f=open('/content/Hi my name is saad.txt','r')\n",
        "print(f.read())"
      ],
      "metadata": {
        "colab": {
          "base_uri": "https://localhost:8080/"
        },
        "id": "y7-hRj2-VlMN",
        "outputId": "5efbfa33-c75e-4865-af9f-3ccdc80ec811"
      },
      "execution_count": null,
      "outputs": [
        {
          "output_type": "stream",
          "name": "stdout",
          "text": [
            "hello\n"
          ]
        }
      ]
    },
    {
      "cell_type": "code",
      "source": [
        "f = open(\"/content/Hi my name is saad.txt\", \"w\")\n",
        "\n",
        "f.writelines(['hello',' ','hi'])\n",
        "f.close\n",
        "f=open('/content/Hi my name is saad.txt','r')\n",
        "print(f.read())"
      ],
      "metadata": {
        "colab": {
          "base_uri": "https://localhost:8080/"
        },
        "id": "oSgoduifWXKv",
        "outputId": "931a0a4e-509d-4c52-8d36-e9fd0a9815b8"
      },
      "execution_count": null,
      "outputs": [
        {
          "output_type": "stream",
          "name": "stdout",
          "text": [
            "hello hi\n"
          ]
        }
      ]
    },
    {
      "cell_type": "code",
      "source": [
        "f = open(\"/content/Hi my name is saad.txt\", \"w\")\n",
        "\n",
        "f.writelines(['hello',' ','hi'])\n",
        "f.close\n",
        "f=open('/content/Hi my name is saad.txt','r')\n",
        "print(f.read())"
      ],
      "metadata": {
        "colab": {
          "base_uri": "https://localhost:8080/"
        },
        "id": "BbumV63cXdtw",
        "outputId": "ccfedc59-38b0-4c64-d02c-2f63a98d2888"
      },
      "execution_count": null,
      "outputs": [
        {
          "output_type": "stream",
          "name": "stdout",
          "text": [
            "hello hi\n"
          ]
        }
      ]
    },
    {
      "cell_type": "code",
      "source": [
        "with open(\"/content/Hi my name is saad.txt\", \"w\") as f:\n",
        "    f.write(\"python\")\n",
        "\n",
        "f=open('/content/Hi my name is saad.txt','r+')\n",
        "f.truncate()\n",
        "\n",
        "f = open(\"/content/Hi my name is saad.txt\", \"r\")\n",
        "\n",
        "print(f.read())"
      ],
      "metadata": {
        "colab": {
          "base_uri": "https://localhost:8080/"
        },
        "id": "koTh-60TYGfm",
        "outputId": "27086d7a-892c-457e-b564-49c4c973f307"
      },
      "execution_count": null,
      "outputs": [
        {
          "output_type": "stream",
          "name": "stdout",
          "text": [
            "\n"
          ]
        }
      ]
    },
    {
      "cell_type": "code",
      "source": [
        "from itertools import product\n",
        "\n",
        "num_digits = int(input(\"Enter the number of binary digits: \"))\n",
        "\n",
        "binary_combinations = list(product([0, 1], repeat=num_digits))\n",
        "\n",
        "print(f\"All combinations of {num_digits} binary digits:\")\n",
        "for combination in binary_combinations:\n",
        "    print(\"\".join(map(str, combination)))\n"
      ],
      "metadata": {
        "id": "e-TySpqnZWBr",
        "colab": {
          "base_uri": "https://localhost:8080/"
        },
        "outputId": "954828fe-58d8-4c87-f074-442bbf6a0358"
      },
      "execution_count": 4,
      "outputs": [
        {
          "output_type": "stream",
          "name": "stdout",
          "text": [
            "Enter the number of binary digits: 3\n",
            "All combinations of 3 binary digits:\n",
            "000\n",
            "001\n",
            "010\n",
            "011\n",
            "100\n",
            "101\n",
            "110\n",
            "111\n"
          ]
        }
      ]
    },
    {
      "cell_type": "code",
      "source": [
        "from itertools import product\n",
        "\n",
        "num_digits = 20\n",
        "\n",
        "# Take input from the user as a binary string\n",
        "user_input = input(f\"Enter a {num_digits}-digit binary number: \")\n",
        "\n",
        "# Convert the user input to a tuple of integers\n",
        "binary_combination = tuple(map(int, user_input))\n",
        "\n",
        "# Generate all possible combinations of 20 binary digits\n",
        "all_combinations = list(product([0, 1], repeat=num_digits))\n",
        "\n",
        "try:\n",
        "    # Find the position of the user's input in the list of all combinations\n",
        "    position = all_combinations.index(binary_combination)\n",
        "    print(f\"The entered combination {user_input} is at position {position + 1} out of {2**num_digits} in all combinations.\")\n",
        "except ValueError:\n",
        "    print(f\"The entered combination {user_input} is not a valid {num_digits}-digit binary number.\")\n"
      ],
      "metadata": {
        "colab": {
          "base_uri": "https://localhost:8080/"
        },
        "id": "HNLWmX8bceQI",
        "outputId": "8883db60-6d4a-488c-81cf-2d50f89d7551"
      },
      "execution_count": 6,
      "outputs": [
        {
          "output_type": "stream",
          "name": "stdout",
          "text": [
            "Enter a 3-digit binary number: 101\n",
            "The entered combination 101 is at position 6 out of 8 in all combinations.\n"
          ]
        }
      ]
    },
    {
      "cell_type": "code",
      "source": [],
      "metadata": {
        "id": "4S0l0tnYe4gk"
      },
      "execution_count": null,
      "outputs": []
    }
  ]
}