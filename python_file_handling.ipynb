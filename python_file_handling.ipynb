{
  "nbformat": 4,
  "nbformat_minor": 0,
  "metadata": {
    "colab": {
      "provenance": []
    },
    "kernelspec": {
      "name": "python3",
      "display_name": "Python 3"
    },
    "language_info": {
      "name": "python"
    }
  },
  "cells": [
    {
      "cell_type": "code",
      "execution_count": 52,
      "metadata": {
        "id": "lo2JuWNEC3nS"
      },
      "outputs": [],
      "source": [
        "f=open('/content/Hi my name is saad.txt')"
      ]
    },
    {
      "cell_type": "code",
      "source": [
        "cont=f.read()\n",
        "for line in f:\n",
        "  print(line)"
      ],
      "metadata": {
        "id": "Fz_szQmmezpC"
      },
      "execution_count": null,
      "outputs": []
    },
    {
      "cell_type": "code",
      "source": [
        "print(f.readline())"
      ],
      "metadata": {
        "id": "UMFtW3HvdiSr"
      },
      "execution_count": null,
      "outputs": []
    },
    {
      "cell_type": "code",
      "source": [
        "print(f.readlines())"
      ],
      "metadata": {
        "colab": {
          "base_uri": "https://localhost:8080/"
        },
        "id": "7phCCKxJdxF-",
        "outputId": "cfcf5e27-b189-40f9-d873-3f0da17ebfb7"
      },
      "execution_count": 53,
      "outputs": [
        {
          "output_type": "stream",
          "name": "stdout",
          "text": [
            "['Hi my name is saad\\n', 'I am a boy\\n', 'How are you doing\\n', 'This is a ball\\n']\n"
          ]
        }
      ]
    },
    {
      "cell_type": "code",
      "source": [
        "f=open('/content/Hi my name is saad.txt','w')\n",
        "f.write('hello \\n my name is saad \\n this is a boy')"
      ],
      "metadata": {
        "id": "N7u_OL2kfEwO"
      },
      "execution_count": 58,
      "outputs": []
    },
    {
      "cell_type": "code",
      "source": [
        "print(f.read())"
      ],
      "metadata": {
        "colab": {
          "base_uri": "https://localhost:8080/"
        },
        "id": "Y1feRKHAf7Uy",
        "outputId": "6369d275-8b10-4b70-d61e-ef0e8d67284f"
      },
      "execution_count": 59,
      "outputs": [
        {
          "output_type": "stream",
          "name": "stdout",
          "text": [
            "hello \n",
            " my name is saad \n",
            " this is a boy\n"
          ]
        }
      ]
    },
    {
      "cell_type": "code",
      "source": [
        "f=open('/content/Hi my name is saad.txt','a')\n",
        "f.write('one of the best')"
      ],
      "metadata": {
        "colab": {
          "base_uri": "https://localhost:8080/"
        },
        "id": "eIqOlubBgHTL",
        "outputId": "c348e8ec-2574-44b3-e3c2-39845557e075"
      },
      "execution_count": 64,
      "outputs": [
        {
          "output_type": "execute_result",
          "data": {
            "text/plain": [
              "15"
            ]
          },
          "metadata": {},
          "execution_count": 64
        }
      ]
    },
    {
      "cell_type": "code",
      "source": [
        "f=open('/content/Hi my name is saad.txt')\n",
        "print(f.read())"
      ],
      "metadata": {
        "colab": {
          "base_uri": "https://localhost:8080/"
        },
        "id": "jQoMraXPgbgS",
        "outputId": "a5a5a56b-bd1d-4731-ec7c-b895e4157d47"
      },
      "execution_count": 65,
      "outputs": [
        {
          "output_type": "stream",
          "name": "stdout",
          "text": [
            "hello \n",
            " my name is saad \n",
            " this is a boyone of the best\n"
          ]
        }
      ]
    },
    {
      "cell_type": "code",
      "source": [
        "f=open('/content/Hi my name is saad.txt')\n",
        "print(f.readlines())\n",
        "print(f.tell())"
      ],
      "metadata": {
        "colab": {
          "base_uri": "https://localhost:8080/"
        },
        "id": "1MMYFGtgghFw",
        "outputId": "a944301b-a213-4758-dde0-b5347703de0e"
      },
      "execution_count": 66,
      "outputs": [
        {
          "output_type": "stream",
          "name": "stdout",
          "text": [
            "['hello \\n', ' my name is saad \\n', ' this is a boyone of the bestone of the best']\n",
            "69\n"
          ]
        }
      ]
    },
    {
      "cell_type": "code",
      "source": [
        "f=open('/content/Hi my name is saad.txt')\n",
        "f.seek(9)\n",
        "print(f.readlines())"
      ],
      "metadata": {
        "colab": {
          "base_uri": "https://localhost:8080/"
        },
        "id": "UXwqzy8tiIUE",
        "outputId": "d96232f0-ae00-430f-a116-0eebc3f1847e"
      },
      "execution_count": 69,
      "outputs": [
        {
          "output_type": "stream",
          "name": "stdout",
          "text": [
            "['y name is saad \\n', ' this is a boyone of the bestone of the best']\n"
          ]
        }
      ]
    },
    {
      "cell_type": "code",
      "source": [
        "with open('/content/Hi my name is saad.txt') as f:\n",
        "  print(f.read())"
      ],
      "metadata": {
        "colab": {
          "base_uri": "https://localhost:8080/"
        },
        "id": "ciO17Yv6idb-",
        "outputId": "95dabd5e-772f-4c41-c47a-265f6e72d6b9"
      },
      "execution_count": 70,
      "outputs": [
        {
          "output_type": "stream",
          "name": "stdout",
          "text": [
            "hello \n",
            " my name is saad \n",
            " this is a boyone of the bestone of the best\n"
          ]
        }
      ]
    }
  ]
}